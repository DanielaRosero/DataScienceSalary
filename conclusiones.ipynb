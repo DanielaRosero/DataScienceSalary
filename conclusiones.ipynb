{
 "cells": [
  {
   "cell_type": "markdown",
   "metadata": {},
   "source": [
    "#### Conclusiones:\n",
    "\n",
    "A partir del análisis detallado del dataset, que presenta información sobre el salario, el año de trabajo, el tamaño de la empresa, el lugar de residencia de los empleados, etc., en el mundo del Data Science se pueden obtener diversas conclusiones:\n",
    "\n",
    "- Como cabría esperar, a medida que aumenta el nivel de experiencia, también lo hace el salario promedio. Además, en los niveles de mayor experiencia (SE y EX) existe una mayor variabilidad en los salarios. Esto podría deberse a un aumento en la diversidad de roles laborales y el nivel de responsabilidades, lo que conlleva una mayor dispersión en los salarios.\n",
    "- Al analizar la evolución de los salarios (USD) en los últimos tres años, se observa que han ido aumentando con el paso del tiempo, probablemente debido a la elevada demanda de profesionales en el sector de IT. Israel es el país con el promedio más elevado de sueldos en Data Science.\n",
    "- Con respecto al tamaño de la empresa y los sueldos promedios, no se observa ninguna correlación aparente.\n",
    "- A pesar de que después de la pandemia la tendencia ha sido reducir el trabajo en remoto, Estados Unidos destaca por ser el país con más teletrabajo  en este sector.\n",
    "- Otras conclusiones relevantes incluyen:\n",
    "   - Los trabajadores con jornada completa, en promedio, cobran más que aquellos con otras modalidades de empleo.\n",
    "   - Los empleos más demandados son: ingeniero de datos, científico de datos y analista de datos.\n",
    "   - Los empleos mejor pagados corresponden a aquellos con más responsabilidad, como jefe, director, encargado o líder de departamento.\n",
    "   - Los empleos con mayor probabilidad de ser en remoto coinciden en su gran mayoría con los más demandados."
   ]
  }
 ],
 "metadata": {
  "kernelspec": {
   "display_name": "Python 3",
   "language": "python",
   "name": "python3"
  },
  "language_info": {
   "name": "python",
   "version": "3.10.11"
  }
 },
 "nbformat": 4,
 "nbformat_minor": 2
}
